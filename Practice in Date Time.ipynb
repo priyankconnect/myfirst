{
 "cells": [
  {
   "cell_type": "code",
   "execution_count": 2,
   "id": "b3978507",
   "metadata": {},
   "outputs": [
    {
     "data": {
      "text/html": [
       "<div>\n",
       "<style scoped>\n",
       "    .dataframe tbody tr th:only-of-type {\n",
       "        vertical-align: middle;\n",
       "    }\n",
       "\n",
       "    .dataframe tbody tr th {\n",
       "        vertical-align: top;\n",
       "    }\n",
       "\n",
       "    .dataframe thead th {\n",
       "        text-align: right;\n",
       "    }\n",
       "</style>\n",
       "<table border=\"1\" class=\"dataframe\">\n",
       "  <thead>\n",
       "    <tr style=\"text-align: right;\">\n",
       "      <th></th>\n",
       "      <th>Date</th>\n",
       "      <th>Value</th>\n",
       "    </tr>\n",
       "  </thead>\n",
       "  <tbody>\n",
       "    <tr>\n",
       "      <th>0</th>\n",
       "      <td>2023-01-01</td>\n",
       "      <td>10</td>\n",
       "    </tr>\n",
       "    <tr>\n",
       "      <th>1</th>\n",
       "      <td>2023-01-03</td>\n",
       "      <td>15</td>\n",
       "    </tr>\n",
       "    <tr>\n",
       "      <th>2</th>\n",
       "      <td>2023-01-04</td>\n",
       "      <td>8</td>\n",
       "    </tr>\n",
       "    <tr>\n",
       "      <th>3</th>\n",
       "      <td>2023-01-05</td>\n",
       "      <td>12</td>\n",
       "    </tr>\n",
       "    <tr>\n",
       "      <th>4</th>\n",
       "      <td>2023-01-05</td>\n",
       "      <td>20</td>\n",
       "    </tr>\n",
       "  </tbody>\n",
       "</table>\n",
       "</div>"
      ],
      "text/plain": [
       "        Date  Value\n",
       "0 2023-01-01     10\n",
       "1 2023-01-03     15\n",
       "2 2023-01-04      8\n",
       "3 2023-01-05     12\n",
       "4 2023-01-05     20"
      ]
     },
     "execution_count": 2,
     "metadata": {},
     "output_type": "execute_result"
    }
   ],
   "source": [
    "import pandas as pd\n",
    "dates = [\"2023-01-01\",\"2023-01-03\",\"2023-01-04\",\"2023-01-05\",\"2023-01-05\"]\n",
    "data = {'Date':pd.to_datetime(dates),'Value':[10,15,8,12,20]}\n",
    "df = pd.DataFrame(data)\n",
    "df"
   ]
  },
  {
   "cell_type": "markdown",
   "id": "eef3b226",
   "metadata": {},
   "source": [
    "### Code Description\n",
    "\n",
    "This code snippet demonstrates the creation of a pandas DataFrame with 'Date' and 'Value' columns. The 'Date' column contains a list of dates in the format 'YYYY-MM-DD', converted to the pandas datetime format using pd.to_datetime(). The 'Value' column contains corresponding numerical values.\n",
    "\n",
    "The code showcases how to use pandas to create a DataFrame and populate it with data. It provides an example of how to organize and manipulate time series data using pandas."
   ]
  },
  {
   "cell_type": "code",
   "execution_count": 4,
   "id": "f8677582",
   "metadata": {},
   "outputs": [
    {
     "name": "stdout",
     "output_type": "stream",
     "text": [
      "2023-01-01 00:00:00\n"
     ]
    }
   ],
   "source": [
    "import pandas as pd\n",
    "date ='2023-01-01'\n",
    "date = pd.to_datetime(date)\n",
    "print(date)"
   ]
  },
  {
   "cell_type": "markdown",
   "id": "7aeee637",
   "metadata": {},
   "source": [
    "This code snippet showcases how to convert a string representing a date in the format 'YYYY-MM-DD' to the pandas datetime format using pd.to_datetime(). The pd.to_datetime() function is a convenient method provided by the pandas library to parse and convert date strings to datetime objects.\n",
    "\n",
    "The code assigns the date string '2023-01-01' to the variable date. It then uses pd.to_datetime() to convert the string to a pandas datetime object. Finally, the code prints the resulting datetime object."
   ]
  },
  {
   "cell_type": "code",
   "execution_count": 8,
   "id": "77e29dd0",
   "metadata": {},
   "outputs": [
    {
     "name": "stdout",
     "output_type": "stream",
     "text": [
      "2023\n",
      "1\n",
      "1\n",
      "0\n",
      "0\n",
      "0\n"
     ]
    }
   ],
   "source": [
    "import pandas as pd\n",
    "date = '2023-01-01'\n",
    "date = pd.to_datetime(date)\n",
    "print(date.year)\n",
    "print(date.month)\n",
    "print(date.day)\n",
    "print(date.hour)\n",
    "print(date.minute)\n",
    "print(date.second)"
   ]
  },
  {
   "cell_type": "markdown",
   "id": "d0fe04c8",
   "metadata": {},
   "source": [
    "This code snippet showcases how to extract different components from a pandas datetime object. The pd.to_datetime() function is used to convert a date string in the format 'YYYY-MM-DD' to a pandas datetime object. Once the date is converted, various attributes and methods are used to access and print specific components of the datetime object, such as the year, month, day, hour, minute, and second."
   ]
  },
  {
   "cell_type": "code",
   "execution_count": null,
   "id": "4db7bc96",
   "metadata": {},
   "outputs": [],
   "source": []
  }
 ],
 "metadata": {
  "kernelspec": {
   "display_name": "Python 3 (ipykernel)",
   "language": "python",
   "name": "python3"
  },
  "language_info": {
   "codemirror_mode": {
    "name": "ipython",
    "version": 3
   },
   "file_extension": ".py",
   "mimetype": "text/x-python",
   "name": "python",
   "nbconvert_exporter": "python",
   "pygments_lexer": "ipython3",
   "version": "3.10.9"
  }
 },
 "nbformat": 4,
 "nbformat_minor": 5
}
