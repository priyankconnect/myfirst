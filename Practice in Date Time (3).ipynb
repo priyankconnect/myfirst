{
 "cells": [
  {
   "cell_type": "code",
   "execution_count": 1,
   "id": "b3978507",
   "metadata": {},
   "outputs": [
    {
     "name": "stdout",
     "output_type": "stream",
     "text": [
      "        Date  Value\n",
      "0 2023-01-01     10\n",
      "1 2023-01-02     15\n",
      "2 2023-01-03      8\n",
      "3 2023-01-04     12\n",
      "4 2023-01-05     20\n",
      "5 2023-01-06     26\n"
     ]
    }
   ],
   "source": [
    "import pandas as pd\n",
    "dates = ['2023-01-01','2023-01-02','2023-01-03','2023-01-04','2023-01-05','2023-01-06']\n",
    "data ={'Date':pd.to_datetime(dates),'Value':[10,15,8,12,20,26]}\n",
    "df = pd.DataFrame(data)\n",
    "print(df)"
   ]
  },
  {
   "cell_type": "code",
   "execution_count": null,
   "id": "258eec83",
   "metadata": {},
   "outputs": [],
   "source": []
  }
 ],
 "metadata": {
  "kernelspec": {
   "display_name": "Python 3 (ipykernel)",
   "language": "python",
   "name": "python3"
  },
  "language_info": {
   "codemirror_mode": {
    "name": "ipython",
    "version": 3
   },
   "file_extension": ".py",
   "mimetype": "text/x-python",
   "name": "python",
   "nbconvert_exporter": "python",
   "pygments_lexer": "ipython3",
   "version": "3.10.9"
  }
 },
 "nbformat": 4,
 "nbformat_minor": 5
}
