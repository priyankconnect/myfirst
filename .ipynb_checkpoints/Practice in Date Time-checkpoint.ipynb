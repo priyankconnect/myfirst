{
 "cells": [
  {
   "cell_type": "code",
   "execution_count": 2,
   "id": "b3978507",
   "metadata": {},
   "outputs": [
    {
     "data": {
      "text/html": [
       "<div>\n",
       "<style scoped>\n",
       "    .dataframe tbody tr th:only-of-type {\n",
       "        vertical-align: middle;\n",
       "    }\n",
       "\n",
       "    .dataframe tbody tr th {\n",
       "        vertical-align: top;\n",
       "    }\n",
       "\n",
       "    .dataframe thead th {\n",
       "        text-align: right;\n",
       "    }\n",
       "</style>\n",
       "<table border=\"1\" class=\"dataframe\">\n",
       "  <thead>\n",
       "    <tr style=\"text-align: right;\">\n",
       "      <th></th>\n",
       "      <th>Date</th>\n",
       "      <th>Value</th>\n",
       "    </tr>\n",
       "  </thead>\n",
       "  <tbody>\n",
       "    <tr>\n",
       "      <th>0</th>\n",
       "      <td>2023-01-01</td>\n",
       "      <td>10</td>\n",
       "    </tr>\n",
       "    <tr>\n",
       "      <th>1</th>\n",
       "      <td>2023-01-03</td>\n",
       "      <td>15</td>\n",
       "    </tr>\n",
       "    <tr>\n",
       "      <th>2</th>\n",
       "      <td>2023-01-04</td>\n",
       "      <td>8</td>\n",
       "    </tr>\n",
       "    <tr>\n",
       "      <th>3</th>\n",
       "      <td>2023-01-05</td>\n",
       "      <td>12</td>\n",
       "    </tr>\n",
       "    <tr>\n",
       "      <th>4</th>\n",
       "      <td>2023-01-05</td>\n",
       "      <td>20</td>\n",
       "    </tr>\n",
       "  </tbody>\n",
       "</table>\n",
       "</div>"
      ],
      "text/plain": [
       "        Date  Value\n",
       "0 2023-01-01     10\n",
       "1 2023-01-03     15\n",
       "2 2023-01-04      8\n",
       "3 2023-01-05     12\n",
       "4 2023-01-05     20"
      ]
     },
     "execution_count": 2,
     "metadata": {},
     "output_type": "execute_result"
    }
   ],
   "source": [
    "import pandas as pd\n",
    "dates = [\"2023-01-01\",\"2023-01-03\",\"2023-01-04\",\"2023-01-05\",\"2023-01-05\"]\n",
    "data = {'Date':pd.to_datetime(dates),'Value':[10,15,8,12,20]}\n",
    "df = pd.DataFrame(data)\n",
    "df"
   ]
  },
  {
   "cell_type": "markdown",
   "id": "eef3b226",
   "metadata": {},
   "source": [
    "### Code Description\n",
    "\n",
    "This code snippet demonstrates the creation of a pandas DataFrame with 'Date' and 'Value' columns. The 'Date' column contains a list of dates in the format 'YYYY-MM-DD', converted to the pandas datetime format using pd.to_datetime(). The 'Value' column contains corresponding numerical values.\n",
    "\n",
    "The code showcases how to use pandas to create a DataFrame and populate it with data. It provides an example of how to organize and manipulate time series data using pandas."
   ]
  },
  {
   "cell_type": "code",
   "execution_count": 4,
   "id": "f8677582",
   "metadata": {},
   "outputs": [
    {
     "name": "stdout",
     "output_type": "stream",
     "text": [
      "2023-01-01 00:00:00\n"
     ]
    }
   ],
   "source": [
    "import pandas as pd\n",
    "date ='2023-01-01'\n",
    "date = pd.to_datetime(date)\n",
    "print(date)"
   ]
  },
  {
   "cell_type": "markdown",
   "id": "7aeee637",
   "metadata": {},
   "source": [
    "This code snippet showcases how to convert a string representing a date in the format 'YYYY-MM-DD' to the pandas datetime format using pd.to_datetime(). The pd.to_datetime() function is a convenient method provided by the pandas library to parse and convert date strings to datetime objects.\n",
    "\n",
    "The code assigns the date string '2023-01-01' to the variable date. It then uses pd.to_datetime() to convert the string to a pandas datetime object. Finally, the code prints the resulting datetime object."
   ]
  },
  {
   "cell_type": "code",
   "execution_count": 8,
   "id": "77e29dd0",
   "metadata": {},
   "outputs": [
    {
     "name": "stdout",
     "output_type": "stream",
     "text": [
      "2023\n",
      "1\n",
      "1\n",
      "0\n",
      "0\n",
      "0\n"
     ]
    }
   ],
   "source": [
    "import pandas as pd\n",
    "date = '2023-01-01'\n",
    "date = pd.to_datetime(date)\n",
    "print(date.year)\n",
    "print(date.month)\n",
    "print(date.day)\n",
    "print(date.hour)\n",
    "print(date.minute)\n",
    "print(date.second)"
   ]
  },
  {
   "cell_type": "markdown",
   "id": "d0fe04c8",
   "metadata": {},
   "source": [
    "This code snippet showcases how to extract different components from a pandas datetime object. The pd.to_datetime() function is used to convert a date string in the format 'YYYY-MM-DD' to a pandas datetime object. Once the date is converted, various attributes and methods are used to access and print specific components of the datetime object, such as the year, month, day, hour, minute, and second."
   ]
  },
  {
   "cell_type": "code",
   "execution_count": 9,
   "id": "4db7bc96",
   "metadata": {},
   "outputs": [
    {
     "name": "stdout",
     "output_type": "stream",
     "text": [
      "5 days 00:00:00\n"
     ]
    }
   ],
   "source": [
    "import pandas as pd\n",
    "duration = pd.to_timedelta(5,'D')\n",
    "print(duration)"
   ]
  },
  {
   "cell_type": "markdown",
   "id": "186ec5c5",
   "metadata": {},
   "source": [
    "This code snippet showcases the creation of a pandas Timedelta object to represent a duration of 5 days. The pd.to_timedelta() function is used to convert a numerical value and a time unit ('D' for days in this case) into a Timedelta object. Timedelta objects are useful for representing and manipulating time durations or differences.\n"
   ]
  },
  {
   "cell_type": "code",
   "execution_count": 10,
   "id": "f19a5a4f",
   "metadata": {},
   "outputs": [
    {
     "name": "stdout",
     "output_type": "stream",
     "text": [
      "8 days 00:00:00\n",
      "2 days 00:00:00\n"
     ]
    }
   ],
   "source": [
    "import pandas as pd\n",
    "duration1 = pd.to_timedelta(5,'D')\n",
    "duration2 = pd.to_timedelta(3,'D')\n",
    "duration_sum = duration1+duration2\n",
    "duration_diff = duration1-duration2\n",
    "print(duration_sum)\n",
    "print(duration_diff)"
   ]
  },
  {
   "cell_type": "markdown",
   "id": "ec4fefe1",
   "metadata": {},
   "source": [
    "This code snippet showcases the addition and subtraction of pandas Timedelta objects. Timedelta objects are created using the pd.to_timedelta() function to represent different durations. The code performs addition and subtraction operations on these Timedelta objects, resulting in new Timedelta objects."
   ]
  },
  {
   "cell_type": "code",
   "execution_count": 11,
   "id": "b3688d80",
   "metadata": {},
   "outputs": [
    {
     "name": "stdout",
     "output_type": "stream",
     "text": [
      "2023-01\n"
     ]
    }
   ],
   "source": [
    "import pandas as pd\n",
    "period = pd.Period('2023-01-01','M')\n",
    "print(period)"
   ]
  },
  {
   "cell_type": "markdown",
   "id": "8ed986cc",
   "metadata": {},
   "source": [
    "This code snippet showcases the creation of a pandas Period object to represent a specific period. The pd.Period() function is used to create the Period object by providing the date and the desired frequency."
   ]
  },
  {
   "cell_type": "code",
   "execution_count": 12,
   "id": "aec12877",
   "metadata": {},
   "outputs": [
    {
     "name": "stdout",
     "output_type": "stream",
     "text": [
      "2023-02\n",
      "2022-12\n"
     ]
    }
   ],
   "source": [
    "import pandas as pd\n",
    "period = pd.Period('2023-01-01','M')\n",
    "next_period = period +1\n",
    "previous_period = period-1\n",
    "print(next_period)\n",
    "print(previous_period)\n"
   ]
  },
  {
   "cell_type": "markdown",
   "id": "de304513",
   "metadata": {},
   "source": [
    "This code snippet showcases the addition and subtraction operations on a pandas Period object. A Period object is created using the pd.Period() function to represent a specific period, in this case, the month of January 2023. The code then performs addition and subtraction operations by adding and subtracting integers from the Period object."
   ]
  },
  {
   "cell_type": "code",
   "execution_count": 14,
   "id": "7c277fef",
   "metadata": {},
   "outputs": [
    {
     "name": "stdout",
     "output_type": "stream",
     "text": [
      "2023-01-02 00:00:00\n",
      "2022-12-31 00:00:00\n",
      "2023-01-08 00:00:00\n",
      "2022-12-25 00:00:00\n"
     ]
    }
   ],
   "source": [
    "import pandas as pd\n",
    "date = pd.to_datetime('2023-01-01')\n",
    "next_day = date + pd.DateOffset(days=1)\n",
    "previous_day = date-pd.DateOffset(days=1)\n",
    "next_week = date + pd.DateOffset(weeks=1)\n",
    "previous_week = date - pd.DateOffset(weeks=1)\n",
    "print(next_day)\n",
    "print(previous_day)\n",
    "print(next_week)\n",
    "print(previous_week)"
   ]
  },
  {
   "cell_type": "markdown",
   "id": "1fc72f08",
   "metadata": {},
   "source": [
    "This code snippet showcases the addition and subtraction operations on a pandas datetime object using the pd.DateOffset() function. A datetime object is created using the pd.to_datetime() function to represent a specific date, in this case, '2023-01-01'. The code then performs addition and subtraction operations by adding or subtracting specific time intervals using the pd.DateOffset() function."
   ]
  },
  {
   "cell_type": "code",
   "execution_count": 18,
   "id": "5f57fa68",
   "metadata": {},
   "outputs": [
    {
     "name": "stdout",
     "output_type": "stream",
     "text": [
      "0          NaN\n",
      "1          NaN\n",
      "2    11.000000\n",
      "3    11.666667\n",
      "4    13.333333\n",
      "5    12.666667\n",
      "6    11.666667\n",
      "7     9.666667\n",
      "8    13.333333\n",
      "9    14.000000\n",
      "Name: Value, dtype: float64\n"
     ]
    }
   ],
   "source": [
    "import pandas as pd\n",
    "dates = pd.date_range(start ='2023-01-01',periods=10)\n",
    "data = {'Date':dates,'Value':[10,15,8,12,20,6,9,14,17,11]}\n",
    "df =pd.DataFrame(data)\n",
    "rolling_sum = df['Value'].rolling(window=3).sum()\n",
    "rolling_mean = df['Value'].rolling(window=3).mean()\n",
    "print(rolling_mean)"
   ]
  },
  {
   "cell_type": "markdown",
   "id": "41cb2850",
   "metadata": {},
   "source": [
    "This code snippet showcases the calculation of rolling sum and rolling mean values using the rolling() function in pandas. A DataFrame is created with a 'Date' column representing a sequence of dates generated using the pd.date_range() function, and a corresponding 'Value' column.\n",
    "\n",
    "The code then uses the rolling() function on the 'Value' column with a window size of 3 to calculate the rolling sum and rolling mean. The rolling sum represents the sum of the previous 3 values in the 'Value' column at each point, while the rolling mean represents the average of the previous 3 values."
   ]
  },
  {
   "cell_type": "code",
   "execution_count": 21,
   "id": "4039f468",
   "metadata": {},
   "outputs": [
    {
     "name": "stdout",
     "output_type": "stream",
     "text": [
      "<class 'pandas._libs.tslibs.timedeltas.Timedelta'>\n",
      "2023-01-08 00:00:00\n"
     ]
    }
   ],
   "source": [
    "import pandas as pd\n",
    "date1 = pd.to_datetime('2023-01-01')\n",
    "date2 = pd.to_datetime('2023-02-01')\n",
    "time_difference = date1-date2\n",
    "print(type(time_difference))\n",
    "date_after_7_days = date1+pd.DateOffset(7,'D')\n",
    "print(date_after_7_days)"
   ]
  },
  {
   "cell_type": "markdown",
   "id": "d1ab0ba8",
   "metadata": {},
   "source": [
    "This code snippet showcases the calculation of time difference and date offset in pandas. Two pandas datetime objects, date1 and date2, are created using the pd.to_datetime() function to represent specific dates. The code then performs operations to calculate the time difference and add a date offset"
   ]
  },
  {
   "cell_type": "code",
   "execution_count": 36,
   "id": "0f592930",
   "metadata": {},
   "outputs": [
    {
     "name": "stdout",
     "output_type": "stream",
     "text": [
      "Value    0.438608\n",
      "Name: 2023-01-01 00:00:00, dtype: float64\n",
      "               Value\n",
      "2023-01-01  0.438608\n",
      "2023-01-02  0.116479\n",
      "2023-01-03 -0.392271\n",
      "2023-01-04  0.089535\n",
      "2023-01-05 -0.029712\n",
      "               Value\n",
      "2023-02-01  0.663964\n",
      "2023-02-02  0.151174\n",
      "2023-02-03  0.971529\n",
      "2023-02-04  0.169818\n",
      "2023-02-05  1.612613\n"
     ]
    }
   ],
   "source": [
    "import pandas as pd\n",
    "import numpy as np\n",
    "dates = pd.date_range(start=\"2023-01-01\",end=\"2023-12-31\",freq='D')\n",
    "df = pd.DataFrame({'Value':np.random.randn(len(dates))},index=dates)\n",
    "selected_date = df.loc['2023-01-01']\n",
    "date_range = df.loc['2023-01-01':'2023-01-15']\n",
    "specific_month = df[df.index.month==2]\n",
    "print(selected_date)\n",
    "print(date_range.head())\n",
    "print(specific_month.head())"
   ]
  },
  {
   "cell_type": "markdown",
   "id": "cb84e703",
   "metadata": {},
   "source": [
    "This code snippet showcases various operations on a pandas DataFrame containing random values indexed by dates. It demonstrates selecting specific dates, a date range, and a specific month from the DataFrame using indexing and filtering operations."
   ]
  },
  {
   "cell_type": "code",
   "execution_count": null,
   "id": "ead58504",
   "metadata": {},
   "outputs": [],
   "source": []
  }
 ],
 "metadata": {
  "kernelspec": {
   "display_name": "Python 3 (ipykernel)",
   "language": "python",
   "name": "python3"
  },
  "language_info": {
   "codemirror_mode": {
    "name": "ipython",
    "version": 3
   },
   "file_extension": ".py",
   "mimetype": "text/x-python",
   "name": "python",
   "nbconvert_exporter": "python",
   "pygments_lexer": "ipython3",
   "version": "3.10.9"
  }
 },
 "nbformat": 4,
 "nbformat_minor": 5
}
